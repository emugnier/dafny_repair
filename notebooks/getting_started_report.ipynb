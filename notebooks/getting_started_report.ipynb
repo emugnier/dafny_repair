{
 "cells": [
  {
   "cell_type": "code",
   "execution_count": 9,
   "metadata": {},
   "outputs": [],
   "source": [
    "import pandas as pd\n",
    "from IPython.display import display, HTML"
   ]
  },
  {
   "cell_type": "code",
   "execution_count": 10,
   "metadata": {},
   "outputs": [
    {
     "data": {
      "text/html": [
       "<ul><li><a href=\"http://c10-10.sysnet.ucsd.edu:8866/?results=results_llm%2Flib_similarity.csv&assertions=DafnyGym%2Flibraries.csv&method=52\" target=\"_blank\">http://c10-10.sysnet.ucsd.edu:8866/?results=results_llm%2Flib_similarity.csv&assertions=DafnyGym%2Flibraries.csv&method=52</a></li><li><a href=\"http://c10-10.sysnet.ucsd.edu:8866/?results=results_llm%2Fcedar_baseline.csv&assertions=DafnyGym%2Fcedar.csv&method=10\" target=\"_blank\">http://c10-10.sysnet.ucsd.edu:8866/?results=results_llm%2Fcedar_baseline.csv&assertions=DafnyGym%2Fcedar.csv&method=10</a></li><li><a href=\"http://c10-10.sysnet.ucsd.edu:8866/?results=results_llm%2Fcedar_baseline.csv&assertions=DafnyGym%2Fcedar.csv&method=10\" target=\"_blank\">http://c10-10.sysnet.ucsd.edu:8866/?results=results_llm%2Fcedar_baseline.csv&assertions=DafnyGym%2Fcedar.csv&method=10</a></li><li><a href=\"http://c10-10.sysnet.ucsd.edu:8866/?results=results_llm%2Fcedar_baseline.csv&assertions=DafnyGym%2Fcedar.csv&method=10\" target=\"_blank\">http://c10-10.sysnet.ucsd.edu:8866/?results=results_llm%2Fcedar_baseline.csv&assertions=DafnyGym%2Fcedar.csv&method=10</a></li><li><a href=\"http://c10-10.sysnet.ucsd.edu:8866/?results=results_llm%2Fcedar_baseline.csv&assertions=DafnyGym%2Fcedar.csv&method=10\" target=\"_blank\">http://c10-10.sysnet.ucsd.edu:8866/?results=results_llm%2Fcedar_baseline.csv&assertions=DafnyGym%2Fcedar.csv&method=10</a></li><li><a href=\"http://c10-10.sysnet.ucsd.edu:8866/?results=results_llm%2Fcedar_similarity.csv&assertions=DafnyGym%2Fcedar.csv&method=10\" target=\"_blank\">http://c10-10.sysnet.ucsd.edu:8866/?results=results_llm%2Fcedar_similarity.csv&assertions=DafnyGym%2Fcedar.csv&method=10</a></li><li><a href=\"http://c10-10.sysnet.ucsd.edu:8866/?results=results_llm%2Fcedar_similarity.csv&assertions=DafnyGym%2Fcedar.csv&method=10\" target=\"_blank\">http://c10-10.sysnet.ucsd.edu:8866/?results=results_llm%2Fcedar_similarity.csv&assertions=DafnyGym%2Fcedar.csv&method=10</a></li><li><a href=\"http://c10-10.sysnet.ucsd.edu:8866/?results=results_llm%2Fcedar_similarity.csv&assertions=DafnyGym%2Fcedar.csv&method=10\" target=\"_blank\">http://c10-10.sysnet.ucsd.edu:8866/?results=results_llm%2Fcedar_similarity.csv&assertions=DafnyGym%2Fcedar.csv&method=10</a></li><li><a href=\"http://c10-10.sysnet.ucsd.edu:8866/?results=results_llm%2Fcedar_similarity.csv&assertions=DafnyGym%2Fcedar.csv&method=10\" target=\"_blank\">http://c10-10.sysnet.ucsd.edu:8866/?results=results_llm%2Fcedar_similarity.csv&assertions=DafnyGym%2Fcedar.csv&method=10</a></li><li><a href=\"http://c10-10.sysnet.ucsd.edu:8866/?results=results_llm%2Fcedar_similarity.csv&assertions=DafnyGym%2Fcedar.csv&method=10\" target=\"_blank\">http://c10-10.sysnet.ucsd.edu:8866/?results=results_llm%2Fcedar_similarity.csv&assertions=DafnyGym%2Fcedar.csv&method=10</a></li><li><a href=\"http://c10-10.sysnet.ucsd.edu:8866/?results=results_llm%2Fcedar_similarity.csv&assertions=DafnyGym%2Fcedar.csv&method=10\" target=\"_blank\">http://c10-10.sysnet.ucsd.edu:8866/?results=results_llm%2Fcedar_similarity.csv&assertions=DafnyGym%2Fcedar.csv&method=10</a></li><li><a href=\"http://c10-10.sysnet.ucsd.edu:8866/?results=results_llm%2Fcedar_similarity.csv&assertions=DafnyGym%2Fcedar.csv&method=10\" target=\"_blank\">http://c10-10.sysnet.ucsd.edu:8866/?results=results_llm%2Fcedar_similarity.csv&assertions=DafnyGym%2Fcedar.csv&method=10</a></li><li><a href=\"http://c10-10.sysnet.ucsd.edu:8866/?results=results_llm%2Fcedar_similarity.csv&assertions=DafnyGym%2Fcedar.csv&method=10\" target=\"_blank\">http://c10-10.sysnet.ucsd.edu:8866/?results=results_llm%2Fcedar_similarity.csv&assertions=DafnyGym%2Fcedar.csv&method=10</a></li><li><a href=\"http://c10-10.sysnet.ucsd.edu:8866/?results=results_llm%2Fcedar_similarity.csv&assertions=DafnyGym%2Fcedar.csv&method=10\" target=\"_blank\">http://c10-10.sysnet.ucsd.edu:8866/?results=results_llm%2Fcedar_similarity.csv&assertions=DafnyGym%2Fcedar.csv&method=10</a></li><li><a href=\"http://c10-10.sysnet.ucsd.edu:8866/?results=results_llm%2Fcedar_similarity.csv&assertions=DafnyGym%2Fcedar.csv&method=10\" target=\"_blank\">http://c10-10.sysnet.ucsd.edu:8866/?results=results_llm%2Fcedar_similarity.csv&assertions=DafnyGym%2Fcedar.csv&method=10</a></li><li><a href=\"http://c10-10.sysnet.ucsd.edu:8866/?results=results_llm%2Fvmc_baseline.csv&assertions=DafnyGym%2Fvmc.csv&method=3\" target=\"_blank\">http://c10-10.sysnet.ucsd.edu:8866/?results=results_llm%2Fvmc_baseline.csv&assertions=DafnyGym%2Fvmc.csv&method=3</a></li><li><a href=\"http://c10-10.sysnet.ucsd.edu:8866/?results=results_llm%2Fvmc_baseline.csv&assertions=DafnyGym%2Fvmc.csv&method=3\" target=\"_blank\">http://c10-10.sysnet.ucsd.edu:8866/?results=results_llm%2Fvmc_baseline.csv&assertions=DafnyGym%2Fvmc.csv&method=3</a></li><li><a href=\"http://c10-10.sysnet.ucsd.edu:8866/?results=results_llm%2Fvmc_baseline.csv&assertions=DafnyGym%2Fvmc.csv&method=3\" target=\"_blank\">http://c10-10.sysnet.ucsd.edu:8866/?results=results_llm%2Fvmc_baseline.csv&assertions=DafnyGym%2Fvmc.csv&method=3</a></li><li><a href=\"http://c10-10.sysnet.ucsd.edu:8866/?results=results_llm%2Fvmc_baseline.csv&assertions=DafnyGym%2Fvmc.csv&method=3\" target=\"_blank\">http://c10-10.sysnet.ucsd.edu:8866/?results=results_llm%2Fvmc_baseline.csv&assertions=DafnyGym%2Fvmc.csv&method=3</a></li><li><a href=\"http://c10-10.sysnet.ucsd.edu:8866/?results=results_llm%2Fvmc_baseline.csv&assertions=DafnyGym%2Fvmc.csv&method=3\" target=\"_blank\">http://c10-10.sysnet.ucsd.edu:8866/?results=results_llm%2Fvmc_baseline.csv&assertions=DafnyGym%2Fvmc.csv&method=3</a></li><li><a href=\"http://c10-10.sysnet.ucsd.edu:8866/?results=results_llm%2Fvmc_baseline.csv&assertions=DafnyGym%2Fvmc.csv&method=3\" target=\"_blank\">http://c10-10.sysnet.ucsd.edu:8866/?results=results_llm%2Fvmc_baseline.csv&assertions=DafnyGym%2Fvmc.csv&method=3</a></li><li><a href=\"http://c10-10.sysnet.ucsd.edu:8866/?results=results_llm%2Fvmc_baseline.csv&assertions=DafnyGym%2Fvmc.csv&method=3\" target=\"_blank\">http://c10-10.sysnet.ucsd.edu:8866/?results=results_llm%2Fvmc_baseline.csv&assertions=DafnyGym%2Fvmc.csv&method=3</a></li><li><a href=\"http://c10-10.sysnet.ucsd.edu:8866/?results=results_llm%2Fvmc_baseline.csv&assertions=DafnyGym%2Fvmc.csv&method=3\" target=\"_blank\">http://c10-10.sysnet.ucsd.edu:8866/?results=results_llm%2Fvmc_baseline.csv&assertions=DafnyGym%2Fvmc.csv&method=3</a></li><li><a href=\"http://c10-10.sysnet.ucsd.edu:8866/?results=results_llm%2Fvmc_baseline.csv&assertions=DafnyGym%2Fvmc.csv&method=3\" target=\"_blank\">http://c10-10.sysnet.ucsd.edu:8866/?results=results_llm%2Fvmc_baseline.csv&assertions=DafnyGym%2Fvmc.csv&method=3</a></li><li><a href=\"http://c10-10.sysnet.ucsd.edu:8866/?results=results_llm%2Fvmc_baseline.csv&assertions=DafnyGym%2Fvmc.csv&method=3\" target=\"_blank\">http://c10-10.sysnet.ucsd.edu:8866/?results=results_llm%2Fvmc_baseline.csv&assertions=DafnyGym%2Fvmc.csv&method=3</a></li><li><a href=\"http://c10-10.sysnet.ucsd.edu:8866/?results=results_llm%2Fvmc_baseline.csv&assertions=DafnyGym%2Fvmc.csv&method=3\" target=\"_blank\">http://c10-10.sysnet.ucsd.edu:8866/?results=results_llm%2Fvmc_baseline.csv&assertions=DafnyGym%2Fvmc.csv&method=3</a></li><li><a href=\"http://c10-10.sysnet.ucsd.edu:8866/?results=results_llm%2Fvmc_baseline.csv&assertions=DafnyGym%2Fvmc.csv&method=3\" target=\"_blank\">http://c10-10.sysnet.ucsd.edu:8866/?results=results_llm%2Fvmc_baseline.csv&assertions=DafnyGym%2Fvmc.csv&method=3</a></li><li><a href=\"http://c10-10.sysnet.ucsd.edu:8866/?results=results_llm%2Fvmc_baseline.csv&assertions=DafnyGym%2Fvmc.csv&method=3\" target=\"_blank\">http://c10-10.sysnet.ucsd.edu:8866/?results=results_llm%2Fvmc_baseline.csv&assertions=DafnyGym%2Fvmc.csv&method=3</a></li><li><a href=\"http://c10-10.sysnet.ucsd.edu:8866/?results=results_llm%2Fvmc_baseline.csv&assertions=DafnyGym%2Fvmc.csv&method=3\" target=\"_blank\">http://c10-10.sysnet.ucsd.edu:8866/?results=results_llm%2Fvmc_baseline.csv&assertions=DafnyGym%2Fvmc.csv&method=3</a></li><li><a href=\"http://c10-10.sysnet.ucsd.edu:8866/?results=results_llm%2Fvmc_baseline.csv&assertions=DafnyGym%2Fvmc.csv&method=3\" target=\"_blank\">http://c10-10.sysnet.ucsd.edu:8866/?results=results_llm%2Fvmc_baseline.csv&assertions=DafnyGym%2Fvmc.csv&method=3</a></li><li><a href=\"http://c10-10.sysnet.ucsd.edu:8866/?results=results_llm%2Fvmc_baseline.csv&assertions=DafnyGym%2Fvmc.csv&method=3\" target=\"_blank\">http://c10-10.sysnet.ucsd.edu:8866/?results=results_llm%2Fvmc_baseline.csv&assertions=DafnyGym%2Fvmc.csv&method=3</a></li><li><a href=\"http://c10-10.sysnet.ucsd.edu:8866/?results=results_llm%2Fvmc_baseline.csv&assertions=DafnyGym%2Fvmc.csv&method=3\" target=\"_blank\">http://c10-10.sysnet.ucsd.edu:8866/?results=results_llm%2Fvmc_baseline.csv&assertions=DafnyGym%2Fvmc.csv&method=3</a></li><li><a href=\"http://c10-10.sysnet.ucsd.edu:8866/?results=results_llm%2Fvmc_baseline.csv&assertions=DafnyGym%2Fvmc.csv&method=3\" target=\"_blank\">http://c10-10.sysnet.ucsd.edu:8866/?results=results_llm%2Fvmc_baseline.csv&assertions=DafnyGym%2Fvmc.csv&method=3</a></li><li><a href=\"http://c10-10.sysnet.ucsd.edu:8866/?results=results_llm%2Fvmc_baseline.csv&assertions=DafnyGym%2Fvmc.csv&method=3\" target=\"_blank\">http://c10-10.sysnet.ucsd.edu:8866/?results=results_llm%2Fvmc_baseline.csv&assertions=DafnyGym%2Fvmc.csv&method=3</a></li><li><a href=\"http://c10-10.sysnet.ucsd.edu:8866/?results=results_llm%2Fvmc_baseline.csv&assertions=DafnyGym%2Fvmc.csv&method=3\" target=\"_blank\">http://c10-10.sysnet.ucsd.edu:8866/?results=results_llm%2Fvmc_baseline.csv&assertions=DafnyGym%2Fvmc.csv&method=3</a></li></ul>"
      ],
      "text/plain": [
       "<IPython.core.display.HTML object>"
      ]
     },
     "metadata": {},
     "output_type": "display_data"
    }
   ],
   "source": [
    "results_files = [\n",
    "    \"../results_llm/lib_baseline.csv\",\n",
    "    \"../results_llm/lib_similarity.csv\",\n",
    "    \"../results_llm/cedar_baseline.csv\",\n",
    "    \"../results_llm/cedar_similarity.csv\",\n",
    "    \"../results_llm/vmc_baseline.csv\",\n",
    "    \"../results_llm/vmc_similarity.csv\",\n",
    "]\n",
    "\n",
    "html_content = \"<ul>\"\n",
    "for file in results_files:\n",
    "    df = pd.read_csv(file)\n",
    "    if \"Url\" in df.columns:\n",
    "        for url in df[\"Url\"]:\n",
    "            html_content += f'<li><a href=\"{url}\" target=\"_blank\">{url}</a></li>'\n",
    "html_content += \"</ul>\"\n",
    "\n",
    "display(HTML(html_content))"
   ]
  }
 ],
 "metadata": {
  "kernelspec": {
   "display_name": "laurel-goYXolMl-py3.12",
   "language": "python",
   "name": "python3"
  },
  "language_info": {
   "codemirror_mode": {
    "name": "ipython",
    "version": 3
   },
   "file_extension": ".py",
   "mimetype": "text/x-python",
   "name": "python",
   "nbconvert_exporter": "python",
   "pygments_lexer": "ipython3",
   "version": "3.12.3"
  }
 },
 "nbformat": 4,
 "nbformat_minor": 2
}
