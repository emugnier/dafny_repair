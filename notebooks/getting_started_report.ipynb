{
 "cells": [
  {
   "cell_type": "code",
   "execution_count": 9,
   "metadata": {},
   "outputs": [],
   "source": [
    "import os\n",
    "import pandas as pd\n",
    "from IPython.display import display, HTML"
   ]
  },
  {
   "cell_type": "markdown",
   "metadata": {},
   "source": [
    "# Getting Started Results Report"
   ]
  },
  {
   "cell_type": "code",
   "execution_count": 11,
   "metadata": {},
   "outputs": [
    {
     "name": "stdout",
     "output_type": "stream",
     "text": [
      "File ../results_llm/lib_baseline.csv has no results\n",
      "File ../results_llm/lib_similarity.csv has no results\n",
      "File ../results_llm/vmc_similarity.csv has no results\n"
     ]
    },
    {
     "data": {
      "text/html": [
       "<ul><li><a href=\"http://c10-10.sysnet.ucsd.edu:8866/?results=results_llm%2Fcedar_baseline.csv&assertions=DafnyGym%2Fcedar.csv&method=10\" target=\"_blank\">StrictGetLubRecordType cedar_baseline.csv</a></li><li><a href=\"http://c10-10.sysnet.ucsd.edu:8866/?results=results_llm%2Fcedar_similarity.csv&assertions=DafnyGym%2Fcedar.csv&method=10\" target=\"_blank\">StrictGetLubRecordType cedar_similarity.csv</a></li><li><a href=\"http://c10-10.sysnet.ucsd.edu:8866/?results=results_llm%2Fvmc_baseline.csv&assertions=DafnyGym%2Fvmc.csv&method=3\" target=\"_blank\">PosCountAddImpliesAdd vmc_baseline.csv</a></li></ul>"
      ],
      "text/plain": [
       "<IPython.core.display.HTML object>"
      ]
     },
     "metadata": {},
     "output_type": "display_data"
    }
   ],
   "source": [
    "results_files = [\n",
    "    \"../results_llm/lib_baseline.csv\",\n",
    "    \"../results_llm/lib_similarity.csv\",\n",
    "    \"../results_llm/cedar_baseline.csv\",\n",
    "    \"../results_llm/cedar_similarity.csv\",\n",
    "    \"../results_llm/vmc_baseline.csv\",\n",
    "    \"../results_llm/vmc_similarity.csv\",\n",
    "]\n",
    "\n",
    "html_content = \"<ul>\"\n",
    "for file in results_files:\n",
    "    df = pd.read_csv(file)\n",
    "    if \"Url\" in df.columns:\n",
    "        if len(df) > 1:\n",
    "            row = df.iloc[0]\n",
    "            html_content += f'<li><a href=\"{row[\"Url\"]}\" target=\"_blank\">{f\"{row[\"Original Method\"]} {os.path.basename(file)}\"}</a></li>'\n",
    "        else:\n",
    "            print(f\"File {file} has no results\")\n",
    "html_content += \"</ul>\"\n",
    "\n",
    "display(HTML(html_content))"
   ]
  },
  {
   "cell_type": "code",
   "execution_count": 3,
   "metadata": {},
   "outputs": [
    {
     "data": {
      "text/html": [
       "<div>\n",
       "<style scoped>\n",
       "    .dataframe tbody tr th:only-of-type {\n",
       "        vertical-align: middle;\n",
       "    }\n",
       "\n",
       "    .dataframe tbody tr th {\n",
       "        vertical-align: top;\n",
       "    }\n",
       "\n",
       "    .dataframe thead th {\n",
       "        text-align: right;\n",
       "    }\n",
       "</style>\n",
       "<table border=\"1\" class=\"dataframe\">\n",
       "  <thead>\n",
       "    <tr style=\"text-align: right;\">\n",
       "      <th></th>\n",
       "      <th>Index</th>\n",
       "      <th>Original Method File</th>\n",
       "      <th>Original Method</th>\n",
       "      <th>Original Method Time</th>\n",
       "      <th>Original Method Result</th>\n",
       "      <th>Original Result File</th>\n",
       "      <th>Original Error Message</th>\n",
       "      <th>Original Error Message File</th>\n",
       "      <th>New Method File</th>\n",
       "      <th>New Method</th>\n",
       "      <th>...</th>\n",
       "      <th>Prompt Length</th>\n",
       "      <th>Prompt Index</th>\n",
       "      <th>Prompt name</th>\n",
       "      <th>Error message</th>\n",
       "      <th>Feedback</th>\n",
       "      <th>Try</th>\n",
       "      <th>Number placeholders</th>\n",
       "      <th>Placeholder position</th>\n",
       "      <th>Diff</th>\n",
       "      <th>Url</th>\n",
       "    </tr>\n",
       "  </thead>\n",
       "  <tbody>\n",
       "  </tbody>\n",
       "</table>\n",
       "<p>0 rows × 26 columns</p>\n",
       "</div>"
      ],
      "text/plain": [
       "Empty DataFrame\n",
       "Columns: [Index, Original Method File, Original Method, Original Method Time, Original Method Result, Original Result File, Original Error Message, Original Error Message File, New Method File, New Method, New Method Time, New Method Result, New Method Result File, New Method Error Message, New Method Error Message File, Prompt File, Prompt Length, Prompt Index, Prompt name, Error message, Feedback, Try, Number placeholders, Placeholder position, Diff, Url]\n",
       "Index: []\n",
       "\n",
       "[0 rows x 26 columns]"
      ]
     },
     "execution_count": 3,
     "metadata": {},
     "output_type": "execute_result"
    }
   ],
   "source": [
    "df.head()"
   ]
  }
 ],
 "metadata": {
  "kernelspec": {
   "display_name": "laurel-goYXolMl-py3.12",
   "language": "python",
   "name": "python3"
  },
  "language_info": {
   "codemirror_mode": {
    "name": "ipython",
    "version": 3
   },
   "file_extension": ".py",
   "mimetype": "text/x-python",
   "name": "python",
   "nbconvert_exporter": "python",
   "pygments_lexer": "ipython3",
   "version": "3.12.3"
  }
 },
 "nbformat": 4,
 "nbformat_minor": 2
}
