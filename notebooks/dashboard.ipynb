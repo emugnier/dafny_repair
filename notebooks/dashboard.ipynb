{
 "cells": [
  {
   "cell_type": "code",
   "execution_count": 12,
   "metadata": {},
   "outputs": [],
   "source": [
    "import os\n",
    "from urllib.parse import parse_qs\n",
    "from IPython.display import Markdown\n",
    "import csv"
   ]
  },
  {
   "cell_type": "code",
   "execution_count": 15,
   "metadata": {},
   "outputs": [],
   "source": [
    "ROOT_PATH = \"/exp/dafny_repair/\""
   ]
  },
  {
   "cell_type": "code",
   "execution_count": 81,
   "metadata": {},
   "outputs": [],
   "source": [
    "query_string = os.getenv(\"QUERY_STRING\")\n",
    "row_id = None\n",
    "if query_string:\n",
    "    if \"method\" in parse_qs(query_string):\n",
    "        row_id = int(parse_qs(query_string)[\"method\"][0])\n",
    "    if \"results\" in parse_qs(query_string):\n",
    "        result_filepath = os.path.join(ROOT_PATH, parse_qs(query_string)[\"results\"][0])\n",
    "    if \"assertions\" in parse_qs(query_string):\n",
    "        assertion_filepath = os.path.join(\n",
    "            ROOT_PATH, parse_qs(query_string)[\"assertions\"][0]\n",
    "        )"
   ]
  },
  {
   "cell_type": "code",
   "execution_count": 80,
   "metadata": {},
   "outputs": [
    {
     "ename": "KeyError",
     "evalue": "'Index'",
     "output_type": "error",
     "traceback": [
      "\u001b[0;31m---------------------------------------------------------------------------\u001b[0m",
      "\u001b[0;31mKeyError\u001b[0m                                  Traceback (most recent call last)",
      "Cell \u001b[0;32mIn[80], line 4\u001b[0m\n\u001b[1;32m      2\u001b[0m csv_reader \u001b[38;5;241m=\u001b[39m csv\u001b[38;5;241m.\u001b[39mDictReader(file)\n\u001b[1;32m      3\u001b[0m \u001b[38;5;28;01mfor\u001b[39;00m index,row \u001b[38;5;129;01min\u001b[39;00m \u001b[38;5;28menumerate\u001b[39m(csv_reader):\n\u001b[0;32m----> 4\u001b[0m     \u001b[38;5;28;01mif\u001b[39;00m \u001b[43mrow\u001b[49m\u001b[43m[\u001b[49m\u001b[38;5;124;43m\"\u001b[39;49m\u001b[38;5;124;43mIndex\u001b[39;49m\u001b[38;5;124;43m\"\u001b[39;49m\u001b[43m]\u001b[49m \u001b[38;5;241m==\u001b[39m \u001b[38;5;28mstr\u001b[39m(row_id):\n\u001b[1;32m      5\u001b[0m         result \u001b[38;5;241m=\u001b[39m row\n\u001b[1;32m      6\u001b[0m         \u001b[38;5;28;01mbreak\u001b[39;00m\n",
      "\u001b[0;31mKeyError\u001b[0m: 'Index'"
     ]
    }
   ],
   "source": [
    "with open(result_filepath, \"r\") as file:\n",
    "    csv_reader = csv.DictReader(file)\n",
    "    for index, row in enumerate(csv_reader):\n",
    "        if row[\"Index\"] == str(row_id):\n",
    "            result = row\n",
    "            break\n",
    "\n",
    "with open(assertion_filepath, \"r\") as file:\n",
    "    csv_reader = csv.DictReader(file)\n",
    "    for index, row in enumerate(csv_reader):\n",
    "        if index == row_id:\n",
    "            assertion = row\n",
    "            break"
   ]
  },
  {
   "cell_type": "code",
   "execution_count": 66,
   "metadata": {},
   "outputs": [],
   "source": [
    "def extract_dafny_functions(dafny_code, name):\n",
    "    inside_function = False\n",
    "    current_function = \"\"\n",
    "    brace_count = 0\n",
    "\n",
    "    lines = dafny_code.split(\"\\n\")\n",
    "\n",
    "    for line in lines:\n",
    "        if f\"lemma {name}\" in line or f\"method {name}\" in line:\n",
    "            inside_function = True\n",
    "            current_function += line + \"\\n\"\n",
    "            brace_count += line.count(\"{\") - line.count(\"}\")\n",
    "        elif inside_function:\n",
    "            current_function += line + \"\\n\"\n",
    "            brace_line_count = line.count(\"{\") - line.count(\"}\")\n",
    "            brace_count += brace_line_count\n",
    "\n",
    "            # hack to identify when a function finishes\n",
    "            # {} if it is an empty function\n",
    "            # otherwise expect } and with a brace count to 0 (since we are finishing the func)\n",
    "            # and not an even number of braces on the line (the odd is the one to finish the func)\n",
    "            if (\n",
    "                brace_count == 0\n",
    "                and \"}\" in line\n",
    "                and (brace_line_count != 0 or \"{}\" in line)\n",
    "            ):\n",
    "                inside_function = False\n",
    "                return current_function\n",
    "\n",
    "\n",
    "def remove_warning(message):\n",
    "    lines = message.split(\"\\n\")\n",
    "\n",
    "    # Find the index of the first line containing an error\n",
    "    error_index = next(\n",
    "        (i for i, line in enumerate(lines) if \"Error\" in line), len(lines)\n",
    "    )\n",
    "    filtered_lines = lines[error_index:]\n",
    "    return \"\\n\".join(filtered_lines)"
   ]
  },
  {
   "cell_type": "code",
   "execution_count": 53,
   "metadata": {},
   "outputs": [],
   "source": [
    "def display_in_markdown_codeblock(content):\n",
    "    return Markdown(f\"```\\n{content}\\n```\")\n",
    "\n",
    "\n",
    "def display_content_in_markdown_codeblock(file_path):\n",
    "    with open(file_path, \"r\") as file:\n",
    "        content = file.read()\n",
    "    return display_in_markdown_codeblock(content)"
   ]
  },
  {
   "cell_type": "code",
   "execution_count": 52,
   "metadata": {},
   "outputs": [
    {
     "data": {
      "text/markdown": [
       "# Assertion : `assert E == (iset s | Rand.Head(s) == (m % 2 == 1));` in SampleRecursiveHalf"
      ],
      "text/plain": [
       "<IPython.core.display.Markdown object>"
      ]
     },
     "execution_count": 52,
     "metadata": {},
     "output_type": "execute_result"
    }
   ],
   "source": [
    "Markdown(\n",
    "    f'# Assertion : `{assertion[\"Assertion\"][:-1]}` in {assertion[\"Original Method\"]}'\n",
    ")"
   ]
  },
  {
   "cell_type": "code",
   "execution_count": 57,
   "metadata": {},
   "outputs": [
    {
     "data": {
      "text/markdown": [
       "## Original Method"
      ],
      "text/plain": [
       "<IPython.core.display.Markdown object>"
      ]
     },
     "execution_count": 57,
     "metadata": {},
     "output_type": "execute_result"
    }
   ],
   "source": [
    "Markdown(f\"## Original Method\")"
   ]
  },
  {
   "cell_type": "code",
   "execution_count": 56,
   "metadata": {},
   "outputs": [
    {
     "data": {
      "text/markdown": [
       "```\n",
       "  lemma SampleRecursiveHalf(n: nat, m: nat)\n",
       "    requires n >= 2\n",
       "    ensures Rand.prob(iset s | Model.Sample(n)(s).value == m) == Rand.prob(iset s | Model.Sample(n / 2)(s).value == m / 2) / 2.0\n",
       "  {\n",
       "    var aOf: Rand.Bitstream -> nat := (s: Rand.Bitstream) => Model.Sample(n / 2)(s).value;\n",
       "    var bOf: Rand.Bitstream -> bool := (s: Rand.Bitstream) => Monad.Coin(Model.Sample(n / 2)(s).rest).value;\n",
       "    var A: iset<nat> := (iset x: nat | x == m / 2);\n",
       "    var E: iset<Rand.Bitstream> := (iset s | m % 2 as nat == Helper.boolToNat(Monad.Coin(s).value));\n",
       "    var f := (s: Rand.Bitstream) => Model.Sample(n / 2)(s).rest;\n",
       "\n",
       "    var e1 := (iset s | Model.Sample(n / 2)(s).RestIn(E));\n",
       "    var e2 := (iset s | Model.Sample(n / 2)(s).In(A));\n",
       "    var e3 := (iset s | 2*aOf(s) + Helper.boolToNat(bOf(s)) == m);\n",
       "\n",
       "    assert SplitEvent: e3 == e1 * e2 by {\n",
       "      forall s ensures s in e3 <==> s in e1 && s in e2 {\n",
       "        var a: nat := aOf(s);\n",
       "        var b: nat := Helper.boolToNat(bOf(s));\n",
       "        assert b < 2;\n",
       "        calc {\n",
       "          s in e3;\n",
       "          2 * a + b == m;\n",
       "          m == a * 2 + b;\n",
       "          (a == m / 2) && (b == m % 2);\n",
       "          s in e1 && s in e2;\n",
       "        }\n",
       "      }\n",
       "    }\n",
       "\n",
       "    assert Eq2: (iset s | aOf(s) == m / 2) == e2 by {\n",
       "      forall s ensures aOf(s) == m / 2 <==> Model.Sample(n / 2)(s).value in A {\n",
       "      }\n",
       "    }\n",
       "\n",
       "    assert Eq3: (iset s | aOf(s) == m / 2) == (iset s | Model.Sample(n / 2)(s).value == m / 2) by {\n",
       "      forall s ensures aOf(s) == m / 2 <==> Model.Sample(n / 2)(s).value == m / 2 {\n",
       "        assert aOf(s) == Model.Sample(n / 2)(s).value;\n",
       "      }\n",
       "    }\n",
       "\n",
       "    assert Eq4: e1 == Measures.PreImage(f, E) by {\n",
       "      forall s ensures Model.Sample(n / 2)(s).rest in E <==> f(s) in E {\n",
       "      }\n",
       "    }\n",
       "\n",
       "    assert E in Rand.eventSpace && Rand.prob(E) == 0.5 by {\n",
       "            Rand.CoinHasProbOneHalf(m % 2 == 1);\n",
       "    }\n",
       "\n",
       "    assert Indep: Rand.prob(e1 * e2) == Rand.prob(e1) * Rand.prob(e2) by {\n",
       "      assert Measures.AreIndepEvents(Rand.eventSpace, Rand.prob, e1, e2) by {\n",
       "        assert Independence.IsIndepFunction(Model.Sample(n / 2)) by {\n",
       "          assert Independence.IsIndep(Model.Sample(n / 2)) by {\n",
       "            SampleIsIndep(n / 2);\n",
       "          }\n",
       "          Independence.IsIndepImpliesIsIndepFunction(Model.Sample(n / 2));\n",
       "        }\n",
       "        assert E in Rand.eventSpace;\n",
       "        assert Independence.IsIndepFunctionCondition(Model.Sample(n / 2), A, E);\n",
       "      }\n",
       "      Independence.AreIndepEventsConjunctElimination(e1, e2);\n",
       "    }\n",
       "\n",
       "    assert ProbE1: Rand.prob(e1) == 0.5 by {\n",
       "      calc {\n",
       "        0.5;\n",
       "      ==\n",
       "        Rand.prob(E);\n",
       "      == { SampleIsMeasurePreserving(n / 2); }\n",
       "        Rand.prob(Measures.PreImage(f, E));\n",
       "      == { reveal Eq4; }\n",
       "        Rand.prob(e1);\n",
       "      }\n",
       "    }\n",
       "\n",
       "    calc {\n",
       "      Rand.prob(iset s | Model.Sample(n)(s).value == m);\n",
       "    == { SampleSetEquality(n, m); }\n",
       "      Rand.prob(e3);\n",
       "    == { reveal SplitEvent; }\n",
       "      Rand.prob(e1 * e2);\n",
       "    == { reveal Indep; }\n",
       "      Rand.prob(e1) * Rand.prob(e2);\n",
       "    == { reveal ProbE1; Helper.Congruence(Rand.prob(e1), 0.5, x => x * Rand.prob(e2)); }\n",
       "      0.5 * Rand.prob(e2);\n",
       "    ==\n",
       "      Rand.prob(e2) / 2.0;\n",
       "    == { reveal Eq2; }\n",
       "      Rand.prob(iset s | aOf(s) == m / 2) / 2.0;\n",
       "    == { reveal Eq3; }\n",
       "      Rand.prob(iset s | Model.Sample(n / 2)(s).value == m / 2) / 2.0;\n",
       "    }\n",
       "  }\n",
       "\n",
       "```"
      ],
      "text/plain": [
       "<IPython.core.display.Markdown object>"
      ]
     },
     "execution_count": 56,
     "metadata": {},
     "output_type": "execute_result"
    }
   ],
   "source": [
    "base_file = assertion[\"Original File\"]\n",
    "with open(base_file, \"r\") as file:\n",
    "    base_code = file.read()\n",
    "og_method = extract_dafny_functions(base_code, assertion[\"Original Method\"])\n",
    "\n",
    "display_in_markdown_codeblock(og_method)"
   ]
  },
  {
   "cell_type": "code",
   "execution_count": 58,
   "metadata": {},
   "outputs": [
    {
     "data": {
      "text/markdown": [
       "## Error Message"
      ],
      "text/plain": [
       "<IPython.core.display.Markdown object>"
      ]
     },
     "execution_count": 58,
     "metadata": {},
     "output_type": "execute_result"
    }
   ],
   "source": [
    "Markdown(f\"## Error Message\")"
   ]
  },
  {
   "cell_type": "code",
   "execution_count": 69,
   "metadata": {},
   "outputs": [
    {
     "data": {
      "text/markdown": [
       "```\n",
       "/exp/test_projects/Dafny-VMC/src/Math/Analysis/Limits.dfy(6,7): Error: Duplicate module name: Limits [Related location] /exp/test_projects/Dafny-VMC/src/Math/Analysis/LimitIsAdditive_fix_2.dfy(6,7)\n",
       "1 resolution/type errors detected in the_program\n",
       "\n",
       "```"
      ],
      "text/plain": [
       "<IPython.core.display.Markdown object>"
      ]
     },
     "execution_count": 69,
     "metadata": {},
     "output_type": "execute_result"
    }
   ],
   "source": [
    "error_file = os.path.join(ROOT_PATH, result[\"Original Error Message File\"])\n",
    "with open(error_file, \"r\") as file:\n",
    "    error_message = file.read()\n",
    "display_in_markdown_codeblock(remove_warning(error_message))"
   ]
  },
  {
   "cell_type": "code",
   "execution_count": 63,
   "metadata": {},
   "outputs": [
    {
     "data": {
      "text/markdown": [
       "## Assertion generated"
      ],
      "text/plain": [
       "<IPython.core.display.Markdown object>"
      ]
     },
     "execution_count": 63,
     "metadata": {},
     "output_type": "execute_result"
    }
   ],
   "source": [
    "Markdown(f\"## Assertion generated\")"
   ]
  },
  {
   "cell_type": "code",
   "execution_count": 62,
   "metadata": {},
   "outputs": [
    {
     "data": {
      "text/markdown": [
       "```\n",
       "assert 2.0 in upper;  // Adding this assertion\n",
       "assert sqrt2 >= 1.0 && sqrt2 <= 2.0;  // Correcting the assertion\n",
       "// the rest of the method\n",
       "}\n",
       "```"
      ],
      "text/plain": [
       "<IPython.core.display.Markdown object>"
      ]
     },
     "execution_count": 62,
     "metadata": {},
     "output_type": "execute_result"
    }
   ],
   "source": [
    "display_in_markdown_codeblock(result[\"Diff\"])"
   ]
  },
  {
   "cell_type": "code",
   "execution_count": 64,
   "metadata": {},
   "outputs": [
    {
     "data": {
      "text/markdown": [
       "## Result: Errors"
      ],
      "text/plain": [
       "<IPython.core.display.Markdown object>"
      ]
     },
     "execution_count": 64,
     "metadata": {},
     "output_type": "execute_result"
    }
   ],
   "source": [
    "Markdown(f'## Result: {result[\"New Method Result\"]}')"
   ]
  },
  {
   "cell_type": "code",
   "execution_count": 78,
   "metadata": {},
   "outputs": [],
   "source": [
    "if (\n",
    "    result[\"New Method Result\"] == \"Error\"\n",
    "    and result[\"New Method Error Message File\"] != \"\"\n",
    "):\n",
    "    error_file = os.path.join(ROOT_PATH, result[\"New Method Error Message File\"])\n",
    "    with open(error_file, \"r\") as file:\n",
    "        error_message = file.read()\n",
    "    display_in_markdown_codeblock(remove_warning(error_message))"
   ]
  },
  {
   "cell_type": "code",
   "execution_count": 71,
   "metadata": {},
   "outputs": [
    {
     "data": {
      "text/markdown": [
       "## Prompt"
      ],
      "text/plain": [
       "<IPython.core.display.Markdown object>"
      ]
     },
     "execution_count": 71,
     "metadata": {},
     "output_type": "execute_result"
    }
   ],
   "source": [
    "Markdown(f\"## Prompt\")"
   ]
  },
  {
   "cell_type": "code",
   "execution_count": 72,
   "metadata": {},
   "outputs": [
    {
     "data": {
      "text/markdown": [
       "```\n",
       "<|im_start|>system\n",
       "\"You are a Dafny formal method expert.\n",
       "You will be provided with a Dafny method indicated by the delimiter <method>\n",
       "that does not verify because of an error indicated in between <error> tagsalong\n",
       "along with its dependencies with the delimiter <dependencies>.\n",
       "Your task is to insert an assertion in the <assertion> placeholder to make it verify.\"\n",
       "<|im_end|><|im_start|>user\n",
       "Can you fix this proof by inserting one assertion in the <assertion> placeholder? \n",
       " <method>\n",
       "lemma LemmaFlattenLengthLeMul<T>(s: seq<seq<T>>, j: int)\n",
       "  requires forall i {{:trigger s[i]}} | 0 <= i < |s| :: |s[i]| <= j\n",
       "  ensures |FlattenReverse(s)| <= |s| * j\n",
       "  {{\n",
       "    if |s| == 0 {{\n",
       "    }} else {{\n",
       "      LemmaFlattenLengthLeMul(s[..|s|-1], j);\n",
       "      <assertion> Insert assertion here </assertion>\n",
       "    }}\n",
       "  }}\n",
       "  # https://github.com/dafny-lang/libraries/pull/56/commits/4586789e1af32732224d7b7c31ccb55035ffac04\n",
       " </method><|im_end|><|im_start|>assistant\n",
       " lemma LemmaFlattenLengthLeMul<T>(s: seq<seq<T>>, j: int)\n",
       "  requires forall i {{:trigger s[i]}} | 0 <= i < |s| :: |s[i]| <= j\n",
       "  ensures |FlattenReverse(s)| <= |s| * j\n",
       "  {{\n",
       "    if |s| == 0 {{\n",
       "    }} else {{\n",
       "      LemmaFlattenLengthLeMul(s[..|s|-1], j);\n",
       "+     assert |FlattenReverse(s[..|s|-1])| <= (|s|-1) * j;\n",
       "    }}\n",
       "  }}\n",
       "  # https://github.com/dafny-lang/libraries/pull/56/commits/4586789e1af32732224d7b7c31ccb55035ffac04<|im_end|><|im_start|>user\n",
       "Can you fix this proof by inserting one assertion in the <assertion> placeholder? \n",
       " <method>\n",
       "  lemma LemmaMaxOfConcat(xs: seq<int>, ys: seq<int>)\n",
       "    requires 0 < |xs| && 0 < |ys|\n",
       "    ensures Max(xs+ys) >= Max(xs)\n",
       "    ensures Max(xs+ys) >= Max(ys)\n",
       "    ensures forall i {:trigger i in [Max(xs + ys)]} :: i in xs + ys ==> Max(xs + ys) >= i\n",
       "  {\n",
       "    reveal Max();\n",
       "    if |xs| == 1 {\n",
       "    } else {\n",
       "      <assertion> Insert assertion here </assertion>\n",
       "      LemmaMaxOfConcat(xs[1..], ys);\n",
       "    }\n",
       "  }\n",
       " </method><|im_end|><|im_start|>assistant\n",
       "   lemma LemmaMaxOfConcat(xs: seq<int>, ys: seq<int>)\n",
       "    requires 0 < |xs| && 0 < |ys|\n",
       "    ensures Max(xs+ys) >= Max(xs)\n",
       "    ensures Max(xs+ys) >= Max(ys)\n",
       "    ensures forall i {:trigger i in [Max(xs + ys)]} :: i in xs + ys ==> Max(xs + ys) >= i\n",
       "  {\n",
       "    reveal Max();\n",
       "    if |xs| == 1 {\n",
       "      assert  xs+ys == [xs[0]] + (xs[1..] + ys);\n",
       "    } else {\n",
       "      assert  xs+ys == [xs[0]] + (xs[1..] + ys);\n",
       "      LemmaMaxOfConcat(xs[1..], ys);\n",
       "    }\n",
       "  }<|im_end|><|im_start|>user\n",
       "Can you fix this proof by inserting one assertion in the <assertion> placeholder?\n",
       " <method>   lemma Sqrt2Exists() returns (sqrt2: real)\n",
       "    ensures sqrt2 * sqrt2 == 2.0\n",
       "  {\n",
       "    var lower := iset x: real | x >= 0.0 && Square(x) < 2.0;\n",
       "    var upper := iset x: real | x >= 0.0 && Square(x) > 2.0;\n",
       "    forall x <- lower, y <- upper ensures x < y {\n",
       "      if x >= y {\n",
       "        calc {\n",
       "          2.0;\n",
       "        <\n",
       "          Square(y);\n",
       "        <= { RealArith.MulMonotonic(y, y, x); RealArith.MulMonotonic(x, y, x); }\n",
       "          Square(x);\n",
       "        <\n",
       "          2.0;\n",
       "        }\n",
       "      }\n",
       "    }\n",
       "    assert 1.0 in lower;\n",
       "        sqrt2 := Reals.DedekindCompleteness(lower, upper);\n",
       "<assertion> Insert assertion here </assertion>\n",
       "    assert 1.0 <= sqrt2 <= 2.0;\n",
       "    assert Square(sqrt2) == 2.0 by {\n",
       "      if sqrt2 * sqrt2 > 2.0 {\n",
       "        var eps := (sqrt2 * sqrt2 - 2.0) / (2.0 * sqrt2);\n",
       "        assert 0.0 < eps < 1.0;\n",
       "        var y := sqrt2 - eps;\n",
       "        assert y * y > 2.0 by {\n",
       "          calc {\n",
       "            y * y;\n",
       "            sqrt2 * sqrt2 - 2.0 * sqrt2 * eps + eps * eps;\n",
       "            sqrt2 * sqrt2 - (sqrt2 * sqrt2 - 2.0) + eps * eps;\n",
       "            2.0 + eps * eps;\n",
       "          >\n",
       "            2.0;\n",
       "          }\n",
       "        }\n",
       "        assert y in upper by {\n",
       "          assert y >= 0.0;\n",
       "          assert y * y > 2.0;\n",
       "        }\n",
       "        assert false;\n",
       "      }\n",
       "      if sqrt2 * sqrt2 < 2.0 {\n",
       "        var eps := (2.0 - sqrt2 * sqrt2) / (2.0 * sqrt2 + 1.0);\n",
       "        assert 0.0 < eps < 1.0;\n",
       "        var y := sqrt2 + eps;\n",
       "        assert y * y < 2.0 by {\n",
       "          calc {\n",
       "            y * y;\n",
       "            sqrt2 * sqrt2 + 2.0 * sqrt2 * eps + eps * eps;\n",
       "            sqrt2 * sqrt2 + (2.0 * sqrt2 + eps) * eps;\n",
       "          < { RealArith.MulMonotonicStrict(eps, 2.0 * sqrt2 + eps, 2.0 * sqrt2 + 1.0); }\n",
       "            sqrt2 * sqrt2 + (2.0 * sqrt2 + 1.0) * eps;\n",
       "            sqrt2 * sqrt2 + (2.0 - sqrt2 * sqrt2);\n",
       "            2.0;\n",
       "          }\n",
       "        }\n",
       "        assert y in lower by {\n",
       "          assert y >= 0.0;\n",
       "          assert y * y < 2.0;\n",
       "        }\n",
       "        assert false;\n",
       "      }\n",
       "    }\n",
       "  }\n",
       " </method><|im_end|><|im_start|>assistant\n",
       "  lemma Sqrt2Exists() returns (sqrt2: real)\n",
       "    ensures sqrt2 * sqrt2 == 2.0\n",
       "  {\n",
       "    var lower := iset x: real | x >= 0.0 && Square(x) < 2.0;\n",
       "    var upper := iset x: real | x >= 0.0 && Square(x) > 2.0;\n",
       "    forall x <- lower, y <- upper ensures x < y {\n",
       "      if x >= y {\n",
       "        calc {\n",
       "          2.0;\n",
       "        <\n",
       "          Square(y);\n",
       "        <= { RealArith.MulMonotonic(y, y, x); RealArith.MulMonotonic(x, y, x); }\n",
       "          Square(x);\n",
       "        <\n",
       "          2.0;\n",
       "        }\n",
       "      }\n",
       "    }\n",
       "    assert 1.0 in lower;\n",
       "        sqrt2 := Reals.DedekindCompleteness(lower, upper);\n",
       "    assert 1.0 < sqrt2 < 2.0;  // Inserting this assertion to verify sqrt2's range before further processing.\n",
       "    assert 1.0 <= sqrt2 <= 2.0;\n",
       "    assert Square(sqrt2) == 2.0 by {\n",
       "      if sqrt2 * sqrt2 > 2.0 {\n",
       "        var eps := (sqrt2 * sqrt2 - 2.0) / (2.0 * sqrt2);\n",
       "        assert 0.0 < eps < 1.0;\n",
       "        var y := sqrt2 - eps;\n",
       "        assert y * y > 2.0 by {\n",
       "          calc {\n",
       "            y * y;\n",
       "            sqrt2 * sqrt2 - 2.0 * sqrt2 * eps + eps * eps;\n",
       "            sqrt2 * sqrt2 - (sqrt2 * sqrt2 - 2.0) + eps * eps;\n",
       "            2.0 + eps * eps;\n",
       "          >\n",
       "            2.0;\n",
       "          }\n",
       "        }\n",
       "        assert y in upper by {\n",
       "          assert y >= 0.0;\n",
       "          assert y * y > 2.0;\n",
       "        }\n",
       "        assert false;\n",
       "      }\n",
       "      if sqrt2 * sqrt2 < 2.0 {\n",
       "        var eps := (2.0 - sqrt2 * sqrt2) / (2.0 * sqrt2 + 1.0);\n",
       "        assert 0.0 < eps < 1.0;\n",
       "        var y := sqrt2 + eps;\n",
       "        assert y * y < 2.0 by {\n",
       "          calc {\n",
       "            y * y;\n",
       "            sqrt2 * sqrt2 + 2.0 * sqrt2 * eps + eps * eps;\n",
       "            sqrt2 * sqrt2 + (2.0 * sqrt2 + eps) * eps;\n",
       "          < { RealArith.MulMonotonicStrict(eps, 2.0 * sqrt2 + eps, 2.0 * sqrt2 + 1.0); }\n",
       "            sqrt2 * sqrt2 + (2.0 * sqrt2 + 1.0) * eps;\n",
       "            sqrt2 * sqrt2 + (2.0 - sqrt2 * sqrt2);\n",
       "            2.0;\n",
       "          }\n",
       "        }\n",
       "        assert y in lower by {\n",
       "          assert y >= 0.0;\n",
       "          assert y * y < 2.0;\n",
       "        }\n",
       "        assert false;\n",
       "      }\n",
       "    }\n",
       "  }\n",
       "  The added assertion `assert 1.0 < sqrt2 < 2.0;` makes sure that the value of sqrt2 lies within the expected range before processing it further. This helps in avoiding possible computational errors or anomalies in the later parts of the method.<|im_end|><|im_start|>user\n",
       "This is the new error message that we get after the indicated change:\n",
       " <error>\n",
       "/exp/test_projects/Dafny-VMC/src/Math/Analysis/Sqrt2Exists_fix_7.dfy(148,8): Error: a precondition for this call could not be proved\n",
       "    |\n",
       "148 |         sqrt2 := Reals.DedekindCompleteness(lower, upper);\n",
       "    |                  ^^^^^^^^^^^^^^^^^^^^^^^^^^^^^^^^^^^^^^^^^\n",
       "\n",
       "/exp/test_projects/Dafny-VMC/src/Math/Analysis/Sqrt2Exists_fix_7.dfy(43,13): Related location: this is the precondition that could not be proved\n",
       "   |\n",
       "43 |     requires upper != iset{}\n",
       "   |              ^^^^^^^^^^^^^^^\n",
       "\n",
       "/exp/test_projects/Dafny-VMC/src/Math/Analysis/Sqrt2Exists_fix_7.dfy(149,11): Error: assertion might not hold\n",
       "    |\n",
       "149 |     assert 1.0 < sqrt2 < 2.0;  // Inserting this assertion to verify sqrt2's range before further processing.\n",
       "    |            ^^^^^^^^^^^\n",
       "\n",
       "/exp/test_projects/Dafny-VMC/src/Math/Analysis/Sqrt2Exists_fix_7.dfy(149,17): Error: assertion might not hold\n",
       "    |\n",
       "149 |     assert 1.0 < sqrt2 < 2.0;  // Inserting this assertion to verify sqrt2's range before further processing.\n",
       "    |                  ^^^^^^^^^^^\n",
       "\n",
       "\n",
       "Dafny program verifier finished with 0 verified, 3 errors\n",
       "\n",
       " <\\error><|im_end|>\n",
       "```"
      ],
      "text/plain": [
       "<IPython.core.display.Markdown object>"
      ]
     },
     "execution_count": 72,
     "metadata": {},
     "output_type": "execute_result"
    }
   ],
   "source": [
    "display_content_in_markdown_codeblock(result[\"Prompt File\"])"
   ]
  },
  {
   "cell_type": "code",
   "execution_count": 73,
   "metadata": {},
   "outputs": [
    {
     "data": {
      "text/markdown": [
       "## New Method"
      ],
      "text/plain": [
       "<IPython.core.display.Markdown object>"
      ]
     },
     "execution_count": 73,
     "metadata": {},
     "output_type": "execute_result"
    }
   ],
   "source": [
    "Markdown(f\"## New Method\")"
   ]
  },
  {
   "cell_type": "code",
   "execution_count": 74,
   "metadata": {},
   "outputs": [
    {
     "ename": "FileNotFoundError",
     "evalue": "[Errno 2] No such file or directory: '/exp/test_projects/Dafny-VMC/src/Distributions/UniformPowerOfTwo/SampleRecursiveHalf_fix_70.dfy'",
     "output_type": "error",
     "traceback": [
      "\u001b[0;31m---------------------------------------------------------------------------\u001b[0m",
      "\u001b[0;31mFileNotFoundError\u001b[0m                         Traceback (most recent call last)",
      "Cell \u001b[0;32mIn[74], line 2\u001b[0m\n\u001b[1;32m      1\u001b[0m base_file \u001b[38;5;241m=\u001b[39m assertion[\u001b[38;5;124m\"\u001b[39m\u001b[38;5;124mNew Method File\u001b[39m\u001b[38;5;124m\"\u001b[39m]\n\u001b[0;32m----> 2\u001b[0m \u001b[38;5;28;01mwith\u001b[39;00m \u001b[38;5;28;43mopen\u001b[39;49m\u001b[43m(\u001b[49m\u001b[43mbase_file\u001b[49m\u001b[43m,\u001b[49m\u001b[43m \u001b[49m\u001b[38;5;124;43m'\u001b[39;49m\u001b[38;5;124;43mr\u001b[39;49m\u001b[38;5;124;43m'\u001b[39;49m\u001b[43m)\u001b[49m \u001b[38;5;28;01mas\u001b[39;00m file:\n\u001b[1;32m      3\u001b[0m     base_code \u001b[38;5;241m=\u001b[39m file\u001b[38;5;241m.\u001b[39mread()\n\u001b[1;32m      4\u001b[0m og_method \u001b[38;5;241m=\u001b[39m extract_dafny_functions(base_code, assertion[\u001b[38;5;124m\"\u001b[39m\u001b[38;5;124mOriginal Method\u001b[39m\u001b[38;5;124m\"\u001b[39m])\n",
      "File \u001b[0;32m~/.pyenv/versions/3.11.6/lib/python3.11/site-packages/IPython/core/interactiveshell.py:308\u001b[0m, in \u001b[0;36m_modified_open\u001b[0;34m(file, *args, **kwargs)\u001b[0m\n\u001b[1;32m    301\u001b[0m \u001b[38;5;28;01mif\u001b[39;00m file \u001b[38;5;129;01min\u001b[39;00m {\u001b[38;5;241m0\u001b[39m, \u001b[38;5;241m1\u001b[39m, \u001b[38;5;241m2\u001b[39m}:\n\u001b[1;32m    302\u001b[0m     \u001b[38;5;28;01mraise\u001b[39;00m \u001b[38;5;167;01mValueError\u001b[39;00m(\n\u001b[1;32m    303\u001b[0m         \u001b[38;5;124mf\u001b[39m\u001b[38;5;124m\"\u001b[39m\u001b[38;5;124mIPython won\u001b[39m\u001b[38;5;124m'\u001b[39m\u001b[38;5;124mt let you open fd=\u001b[39m\u001b[38;5;132;01m{\u001b[39;00mfile\u001b[38;5;132;01m}\u001b[39;00m\u001b[38;5;124m by default \u001b[39m\u001b[38;5;124m\"\u001b[39m\n\u001b[1;32m    304\u001b[0m         \u001b[38;5;124m\"\u001b[39m\u001b[38;5;124mas it is likely to crash IPython. If you know what you are doing, \u001b[39m\u001b[38;5;124m\"\u001b[39m\n\u001b[1;32m    305\u001b[0m         \u001b[38;5;124m\"\u001b[39m\u001b[38;5;124myou can use builtins\u001b[39m\u001b[38;5;124m'\u001b[39m\u001b[38;5;124m open.\u001b[39m\u001b[38;5;124m\"\u001b[39m\n\u001b[1;32m    306\u001b[0m     )\n\u001b[0;32m--> 308\u001b[0m \u001b[38;5;28;01mreturn\u001b[39;00m \u001b[43mio_open\u001b[49m\u001b[43m(\u001b[49m\u001b[43mfile\u001b[49m\u001b[43m,\u001b[49m\u001b[43m \u001b[49m\u001b[38;5;241;43m*\u001b[39;49m\u001b[43margs\u001b[49m\u001b[43m,\u001b[49m\u001b[43m \u001b[49m\u001b[38;5;241;43m*\u001b[39;49m\u001b[38;5;241;43m*\u001b[39;49m\u001b[43mkwargs\u001b[49m\u001b[43m)\u001b[49m\n",
      "\u001b[0;31mFileNotFoundError\u001b[0m: [Errno 2] No such file or directory: '/exp/test_projects/Dafny-VMC/src/Distributions/UniformPowerOfTwo/SampleRecursiveHalf_fix_70.dfy'"
     ]
    }
   ],
   "source": [
    "base_file = assertion[\"New Method File\"]\n",
    "with open(base_file, \"r\") as file:\n",
    "    base_code = file.read()\n",
    "og_method = extract_dafny_functions(base_code, assertion[\"Original Method\"])\n",
    "\n",
    "display_in_markdown_codeblock(og_method)"
   ]
  }
 ],
 "metadata": {
  "kernelspec": {
   "display_name": "Python 3",
   "language": "python",
   "name": "python3"
  },
  "language_info": {
   "codemirror_mode": {
    "name": "ipython",
    "version": 3
   },
   "file_extension": ".py",
   "mimetype": "text/x-python",
   "name": "python",
   "nbconvert_exporter": "python",
   "pygments_lexer": "ipython3",
   "version": "3.11.6"
  }
 },
 "nbformat": 4,
 "nbformat_minor": 2
}
