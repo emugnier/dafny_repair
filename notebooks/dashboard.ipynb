{
 "cells": [
  {
   "cell_type": "code",
   "execution_count": 100,
   "metadata": {},
   "outputs": [],
   "source": [
    "import os\n",
    "from urllib.parse import parse_qs\n",
    "from IPython.display import Markdown, display\n",
    "import ipywidgets as widgets\n",
    "import csv\n",
    "import json\n",
    "import html"
   ]
  },
  {
   "cell_type": "code",
   "execution_count": 83,
   "metadata": {},
   "outputs": [],
   "source": [
    "ROOT_PATH = \"../\""
   ]
  },
  {
   "cell_type": "code",
   "execution_count": 84,
   "metadata": {},
   "outputs": [],
   "source": [
    "query_string = os.getenv(\"QUERY_STRING\")\n",
    "row_id = None\n",
    "if query_string:\n",
    "    if \"method\" in parse_qs(query_string):\n",
    "        method_index = int(parse_qs(query_string)[\"method\"][0])\n",
    "    if \"results\" in parse_qs(query_string):\n",
    "        result_filepath = os.path.join(ROOT_PATH, parse_qs(query_string)[\"results\"][0])\n",
    "    if \"assertions\" in parse_qs(query_string):\n",
    "        assertion_filepath = os.path.join(\n",
    "            ROOT_PATH, parse_qs(query_string)[\"assertions\"][0]\n",
    "        )"
   ]
  },
  {
   "cell_type": "code",
   "execution_count": 85,
   "metadata": {},
   "outputs": [],
   "source": [
    "# row_id = 0\n",
    "# result_filepath = \".//tests_package/ressources/fixes_llm_test.csv\"\n",
    "# assertion_filepath = \".//tests_package/ressources/llm_test.csv\"\n",
    "# method_index = 0\n",
    "# result_filepath = \".//results_llm/stats_llm_libraries_sample10_context.csv\"\n",
    "# assertion_filepath = \".//samples/non_verified_libraries_sample_10.csv\""
   ]
  },
  {
   "cell_type": "code",
   "execution_count": 86,
   "metadata": {},
   "outputs": [],
   "source": [
    "result = []\n",
    "with open(result_filepath, \"r\") as file:\n",
    "    csv_reader = csv.DictReader(file)\n",
    "    for index, row in enumerate(csv_reader):\n",
    "        if row[\"Index\"] == str(method_index):\n",
    "            result.append(row)\n",
    "\n",
    "with open(assertion_filepath, \"r\") as file:\n",
    "    csv_reader = csv.DictReader(file)\n",
    "    for index, row in enumerate(csv_reader):\n",
    "        if index == method_index:\n",
    "            assertion = row\n",
    "            break"
   ]
  },
  {
   "cell_type": "code",
   "execution_count": 87,
   "metadata": {},
   "outputs": [],
   "source": [
    "def extract_dafny_functions(dafny_code, name):\n",
    "    inside_function = False\n",
    "    current_function = \"\"\n",
    "    brace_count = 0\n",
    "\n",
    "    lines = dafny_code.split(\"\\n\")\n",
    "\n",
    "    for line in lines:\n",
    "        if f\"lemma {name}\" in line or f\"method {name}\" in line:\n",
    "            inside_function = True\n",
    "            current_function += line + \"\\n\"\n",
    "            brace_count += line.count(\"{\") - line.count(\"}\")\n",
    "        elif inside_function:\n",
    "            current_function += line + \"\\n\"\n",
    "            brace_line_count = line.count(\"{\") - line.count(\"}\")\n",
    "            brace_count += brace_line_count\n",
    "\n",
    "            # hack to identify when a function finishes\n",
    "            # {} if it is an empty function\n",
    "            # otherwise expect } and with a brace count to 0 (since we are finishing the func)\n",
    "            # and not an even number of braces on the line (the odd is the one to finish the func)\n",
    "            if (\n",
    "                brace_count == 0\n",
    "                and \"}\" in line\n",
    "                and (brace_line_count != 0 or \"{}\" in line)\n",
    "            ):\n",
    "                inside_function = False\n",
    "                return current_function\n",
    "\n",
    "\n",
    "def remove_warning(message):\n",
    "    lines = message.split(\"\\n\")\n",
    "\n",
    "    # Find the index of the first line containing an error\n",
    "    error_index = next(\n",
    "        (i for i, line in enumerate(lines) if \"Error\" in line), len(lines)\n",
    "    )\n",
    "    filtered_lines = lines[error_index:]\n",
    "    return \"\\n\".join(filtered_lines)"
   ]
  },
  {
   "cell_type": "code",
   "execution_count": 88,
   "metadata": {},
   "outputs": [],
   "source": [
    "def display_in_markdown_codeblock(content):\n",
    "    return Markdown(f\"```\\n{content}\\n```\")\n",
    "\n",
    "\n",
    "def display_content_in_markdown_codeblock(file_path):\n",
    "    with open(file_path, \"r\") as file:\n",
    "        content = file.read()\n",
    "    return display_in_markdown_codeblock(content)"
   ]
  },
  {
   "cell_type": "code",
   "execution_count": 99,
   "metadata": {},
   "outputs": [
    {
     "data": {
      "text/markdown": [
       "# Assertion : `assert unit1 == bop(unit1, unit2)` in UnitIsUnique"
      ],
      "text/plain": [
       "<IPython.core.display.Markdown object>"
      ]
     },
     "metadata": {},
     "output_type": "display_data"
    },
    {
     "data": {
      "text/markdown": [
       "## Original Method"
      ],
      "text/plain": [
       "<IPython.core.display.Markdown object>"
      ]
     },
     "metadata": {},
     "output_type": "display_data"
    },
    {
     "data": {
      "text/markdown": [
       "```\n",
       "lemma UnitIsUnique<T(!new)>(bop: (T, T) -> T, unit1: T, unit2: T)\n",
       "  requires IsUnital(bop, unit1)\n",
       "    requires IsUnital(bop, unit2)\n",
       "      ensures unit1 == unit2\n",
       "{\n",
       "    assert unit1 == bop(unit1, unit2);\n",
       "    assert unit2 == bop(unit2, unit1);\n",
       "}\n",
       "\n",
       "```"
      ],
      "text/plain": [
       "<IPython.core.display.Markdown object>"
      ]
     },
     "metadata": {},
     "output_type": "display_data"
    },
    {
     "data": {
      "text/markdown": [
       "## Error Message"
      ],
      "text/plain": [
       "<IPython.core.display.Markdown object>"
      ]
     },
     "metadata": {},
     "output_type": "display_data"
    },
    {
     "data": {
      "text/markdown": [
       "```\n",
       "tests_package/ressources/unital_assert.dfy(21,0): Error: a postcondition could not be proved on this return path\n",
       "   |\n",
       "21 | {\n",
       "   | ^\n",
       "\n",
       "tests_package/ressources/unital_assert.dfy(20,14): Related location: this is the postcondition that could not be proved\n",
       "   |\n",
       "20 |       ensures unit1 == unit2\n",
       "   |               ^^^^^^^^^^^^^^\n",
       "\n",
       "\n",
       "Dafny program verifier finished with 0 verified, 1 error\n",
       "\n",
       "```"
      ],
      "text/plain": [
       "<IPython.core.display.Markdown object>"
      ]
     },
     "metadata": {},
     "output_type": "display_data"
    }
   ],
   "source": [
    "display(\n",
    "    Markdown(\n",
    "        f'# Assertion : `{assertion[\"Assertion\"][:-1]}` in {assertion[\"Original Method\"]}'\n",
    "    )\n",
    ")\n",
    "display(Markdown(f\"## Original Method\"))\n",
    "base_file = assertion[\"Original File\"]\n",
    "if not os.path.isabs(base_file):\n",
    "    base_file = os.path.join(ROOT_PATH, base_file)\n",
    "with open(base_file, \"r\") as file:\n",
    "    base_code = file.read()\n",
    "og_method = extract_dafny_functions(base_code, assertion[\"Original Method\"])\n",
    "\n",
    "display(display_in_markdown_codeblock(og_method))\n",
    "display(Markdown(f\"## Error Message\"))\n",
    "error_file = os.path.join(ROOT_PATH, result[0][\"Original Error Message File\"])\n",
    "with open(error_file, \"r\") as file:\n",
    "    error_message = file.read()\n",
    "display(display_in_markdown_codeblock(remove_warning(error_message)))"
   ]
  },
  {
   "cell_type": "code",
   "execution_count": 102,
   "metadata": {},
   "outputs": [
    {
     "data": {
      "application/vnd.jupyter.widget-view+json": {
       "model_id": "66117570710e49529c5db850a87fa6a9",
       "version_major": 2,
       "version_minor": 0
      },
      "text/plain": [
       "Accordion(children=(VBox(children=(Accordion(children=(Output(),), titles=('Diff',)), Accordion(children=(Outp…"
      ]
     },
     "metadata": {},
     "output_type": "display_data"
    }
   ],
   "source": [
    "# accordion = widgets.Accordion(\n",
    "#     children=[widgets.Output() for _ in range(len(result))],\n",
    "#     titles=[f\"Try {i}\" for i in range(len(result))],\n",
    "# )\n",
    "accordion = widgets.Accordion(\n",
    "    children=[widgets.Output() for _ in range(len(result))],\n",
    "    titles=[f\"Try {i} feedback\" if row[\"Feedback\"]==\"True\" else f\"Try {i}\" for i, row in enumerate(result)],\n",
    "    # titles=[f\"Try {i}\" for i in range(len(result))],\n",
    ")\n",
    "\n",
    "try_sections = []\n",
    "for row in result:\n",
    "    # Create separate accordions for each section\n",
    "    diff_accordion = widgets.Accordion(children=[widgets.Output()], titles=(\"Diff\",))\n",
    "    result_accordion = widgets.Accordion(children=[widgets.Output()], titles=[\"Result\"])\n",
    "    error_accordion = widgets.Accordion(children=[widgets.Output()], titles=[\"Error\"])\n",
    "    prompt_accordion = widgets.Accordion(children=[widgets.Output()], titles=[\"Prompt\"])\n",
    "    method_accordion = widgets.Accordion(\n",
    "        children=[widgets.Output()], titles=[\"New Method\"]\n",
    "    )\n",
    "\n",
    "    # Set up display for each accordion section\n",
    "    with diff_accordion.children[0]:\n",
    "        display(Markdown(f\"## Assertion generated\"))\n",
    "        display(display_in_markdown_codeblock(row[\"Diff\"]))\n",
    "\n",
    "    with result_accordion.children[0]:\n",
    "        display(Markdown(f'## Result: {row[\"New Method Result\"]}'))\n",
    "\n",
    "    if (\n",
    "        row[\"New Method Result\"] == \"Error\"\n",
    "        and row[\"New Method Error Message File\"] != \"\"\n",
    "    ):\n",
    "        error_file = os.path.join(ROOT_PATH, row[\"New Method Error Message File\"])\n",
    "        with open(error_file, \"r\") as file:\n",
    "            error_message = file.read()\n",
    "        display(Markdown(f\"## Error Message\"))\n",
    "        with error_accordion.children[0]:\n",
    "            display(display_in_markdown_codeblock(remove_warning(error_message)))\n",
    "    elif row[\"Error message\"] != \"\":\n",
    "        with error_accordion.children[0]:\n",
    "            display(Markdown(f\"## Error Message\"))\n",
    "            if not os.path.isabs(row[\"Error message\"]):\n",
    "                error_file = os.path.join(ROOT_PATH, row[\"Error message\"])\n",
    "            with open(error_file, \"r\") as file:\n",
    "                error_message = file.read()\n",
    "            display(display_in_markdown_codeblock(error_message))\n",
    "\n",
    "    with prompt_accordion.children[0]:\n",
    "        display(Markdown(f\"## Prompt\"))\n",
    "        prompt_file = row[\"Prompt File\"]\n",
    "        if not os.path.isabs(prompt_file):\n",
    "            prompt_file = os.path.join(ROOT_PATH, prompt_file)\n",
    "        with open(prompt_file, \"r\") as file:\n",
    "            prompt = json.load(file)\n",
    "        for item in prompt:\n",
    "            # content = item[\"content\"].replace(\"\\n\", \"<br>\")\n",
    "            # content = html.escape(item[\"content\"]).replace(\"\\n\", \"<br>\")\n",
    "            content = (\n",
    "                html.escape(item[\"content\"])\n",
    "                .replace(\" \", \"&nbsp;\")\n",
    "                .replace(\"\\n\", \"<br>\")\n",
    "            )\n",
    "\n",
    "            if item[\"role\"] == \"system\":\n",
    "                display(Markdown(f\"### {item['role']}\\n> {content}\"))\n",
    "            else:\n",
    "                display(Markdown(f\"### {item['role']}\\n \\n{content}\\n\"))\n",
    "        # for item in prompt:\n",
    "        #     if item['role'] == 'system':\n",
    "        #         display(Markdown(f\"### {item['role']}\\n> {str(item['content'])}\"))\n",
    "        #     elif item['role'] == 'user':\n",
    "        #         display(Markdown(f\"### {item['role']}\\n {str(item['content'])} \"))\n",
    "        #     elif item['role'] == 'assistant':\n",
    "        #         display(Markdown(f\"### {item['role']}\\n {item['content']} \"V))\n",
    "        # display(display_content_in_markdown_codeblock(prompt_file))\n",
    "\n",
    "    with method_accordion.children[0]:\n",
    "        display(Markdown(f\"## New Method\"))\n",
    "        base_file = row[\"New Method File\"]\n",
    "        if base_file != \"default_file_path\":\n",
    "            if not os.path.isabs(base_file):\n",
    "                base_file = os.path.join(ROOT_PATH, base_file)\n",
    "            with open(base_file, \"r\") as file:\n",
    "                base_code = file.read()\n",
    "            og_method = extract_dafny_functions(base_code, assertion[\"Original Method\"])\n",
    "            display(display_in_markdown_codeblock(og_method))\n",
    "\n",
    "    # display(diff_accordion)\n",
    "    # display(result_accordion)\n",
    "    # display(error_accordion)\n",
    "    # display(prompt_accordion)\n",
    "    # display(method_accordion)\n",
    "    try_sections.append(\n",
    "        widgets.VBox(\n",
    "            [\n",
    "                diff_accordion,\n",
    "                result_accordion,\n",
    "                error_accordion,\n",
    "                prompt_accordion,\n",
    "                method_accordion,\n",
    "            ]\n",
    "        )\n",
    "    )\n",
    "\n",
    "accordion.children = try_sections\n",
    "display(accordion)"
   ]
  }
 ],
 "metadata": {
  "kernelspec": {
   "display_name": "Python 3",
   "language": "python",
   "name": "python3"
  },
  "language_info": {
   "codemirror_mode": {
    "name": "ipython",
    "version": 3
   },
   "file_extension": ".py",
   "mimetype": "text/x-python",
   "name": "python",
   "nbconvert_exporter": "python",
   "pygments_lexer": "ipython3",
   "version": "3.12.3"
  }
 },
 "nbformat": 4,
 "nbformat_minor": 2
}
