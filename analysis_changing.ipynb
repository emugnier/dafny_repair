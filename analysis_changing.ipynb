{
 "cells": [
  {
   "cell_type": "code",
   "execution_count": 1,
   "metadata": {},
   "outputs": [],
   "source": [
    "import pandas as pd"
   ]
  },
  {
   "cell_type": "code",
   "execution_count": 2,
   "metadata": {},
   "outputs": [],
   "source": [
    "ratio = [25, 50, 75, 100]"
   ]
  },
  {
   "cell_type": "code",
   "execution_count": 5,
   "metadata": {},
   "outputs": [],
   "source": [
    "all_df = {}\n",
    "for rate in ratio:\n",
    "    file = f\"./results_llm/example_libraries/output_dynamicPlaceholder_ratio_{rate}_libraries.csv\"\n",
    "    all_df[rate] = pd.read_csv(file)"
   ]
  },
  {
   "cell_type": "code",
   "execution_count": 6,
   "metadata": {},
   "outputs": [],
   "source": [
    "results = {}\n",
    "for rate in ratio:\n",
    "    cumulative_successes = [0 * 10]\n",
    "    # Iterate over the range of tries\n",
    "    for try_number in range(1, 11):\n",
    "        # Get the successes for the current try and all previous tries\n",
    "        successes = all_df[rate][\n",
    "            (all_df[rate][\"New Method Result\"] == \"Correct\")\n",
    "            & (all_df[rate][\"Try\"] <= try_number)\n",
    "        ]\n",
    "        # Count the number of unique indices that were successful\n",
    "        cumulative_successes.append(successes[\"Index\"].nunique())\n",
    "    results[rate] = cumulative_successes"
   ]
  },
  {
   "cell_type": "code",
   "execution_count": 7,
   "metadata": {},
   "outputs": [
    {
     "name": "stdout",
     "output_type": "stream",
     "text": [
      "{25: [0, 3, 3, 3, 3, 3, 4, 4, 4, 4, 4], 50: [0, 4, 4, 4, 4, 4, 4, 4, 4, 4, 4], 75: [0, 5, 5, 5, 5, 5, 5, 5, 5, 5, 5], 100: [0, 5, 5, 6, 7, 7, 7, 7, 7, 7, 7]}\n"
     ]
    }
   ],
   "source": [
    "print(results)"
   ]
  },
  {
   "cell_type": "code",
   "execution_count": 13,
   "metadata": {},
   "outputs": [],
   "source": [
    "normalized_cumulative_success = {}\n",
    "for rate in ratio:\n",
    "    total_indices = all_df[rate][\"Index\"].nunique()\n",
    "    normalized_cumulative_success[rate] = [\n",
    "        100.0 * successes / total_indices if total_indices != 0 else 0\n",
    "        for successes in cumulative_successes\n",
    "    ]"
   ]
  },
  {
   "cell_type": "code",
   "execution_count": null,
   "metadata": {},
   "outputs": [],
   "source": [
    "for rate in ratio:\n",
    "    method_name = method\n",
    "    if method == \"errorplaceholder\":\n",
    "        method_name = \"error+placeholder\"\n",
    "    axs[i].plot(\n",
    "        grouped_data[benchmark][method],\n",
    "        label=method_name,\n",
    "        color=color_map[method_name],\n",
    "    )\n",
    "axs[i].set_title(f\"{benchmark[:-6]}\", fontsize=15)\n",
    "axs[i].set_xlabel(\"Number of attempts\", fontsize=15)\n",
    "axs[i].set_ylabel(\"Percentage of verified lemmas\", fontsize=15)\n",
    "axs[i].legend(fontsize=10)\n",
    "i += 1\n",
    "plt.savefig(\"../fig/benchs_placeholder.pdf\", bbox_inches=\"tight\")\n",
    "\n",
    "plt.show()"
   ]
  }
 ],
 "metadata": {
  "kernelspec": {
   "display_name": "proof-repair-goYXolMl-py3.12",
   "language": "python",
   "name": "python3"
  },
  "language_info": {
   "codemirror_mode": {
    "name": "ipython",
    "version": 3
   },
   "file_extension": ".py",
   "mimetype": "text/x-python",
   "name": "python",
   "nbconvert_exporter": "python",
   "pygments_lexer": "ipython3",
   "version": "3.12.3"
  }
 },
 "nbformat": 4,
 "nbformat_minor": 2
}
